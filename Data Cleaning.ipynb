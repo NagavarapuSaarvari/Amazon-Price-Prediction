{
 "cells": [
  {
   "cell_type": "code",
   "execution_count": 1,
   "id": "05da2c9d-79b6-479b-b8cc-0501f167d8f5",
   "metadata": {},
   "outputs": [],
   "source": [
    "import pandas as pd"
   ]
  },
  {
   "cell_type": "code",
   "execution_count": 2,
   "id": "00d4ce34-e37f-4609-b569-8b2476019ce0",
   "metadata": {},
   "outputs": [
    {
     "data": {
      "text/html": [
       "<div>\n",
       "<style scoped>\n",
       "    .dataframe tbody tr th:only-of-type {\n",
       "        vertical-align: middle;\n",
       "    }\n",
       "\n",
       "    .dataframe tbody tr th {\n",
       "        vertical-align: top;\n",
       "    }\n",
       "\n",
       "    .dataframe thead th {\n",
       "        text-align: right;\n",
       "    }\n",
       "</style>\n",
       "<table border=\"1\" class=\"dataframe\">\n",
       "  <thead>\n",
       "    <tr style=\"text-align: right;\">\n",
       "      <th></th>\n",
       "      <th>Category</th>\n",
       "      <th>Title</th>\n",
       "      <th>Price</th>\n",
       "      <th>Rating</th>\n",
       "      <th>Review Count</th>\n",
       "    </tr>\n",
       "  </thead>\n",
       "  <tbody>\n",
       "    <tr>\n",
       "      <th>0</th>\n",
       "      <td>Electronics</td>\n",
       "      <td>Apple AirTag</td>\n",
       "      <td>9.77</td>\n",
       "      <td>4.6</td>\n",
       "      <td>384.0</td>\n",
       "    </tr>\n",
       "    <tr>\n",
       "      <th>1</th>\n",
       "      <td>Electronics</td>\n",
       "      <td>USB C Charger iPhone Charger Fast Charging 3Pa...</td>\n",
       "      <td>9.99</td>\n",
       "      <td>4.7</td>\n",
       "      <td>218.0</td>\n",
       "    </tr>\n",
       "    <tr>\n",
       "      <th>2</th>\n",
       "      <td>Electronics</td>\n",
       "      <td>20W USB C Fast Charger Compatible with iPhone ...</td>\n",
       "      <td>7.99</td>\n",
       "      <td>4.4</td>\n",
       "      <td>1890.0</td>\n",
       "    </tr>\n",
       "    <tr>\n",
       "      <th>3</th>\n",
       "      <td>Electronics</td>\n",
       "      <td>SAMSUNG Galaxy Tab A9+ Tablet 11” 64GB Android...</td>\n",
       "      <td>169.99</td>\n",
       "      <td>4.6</td>\n",
       "      <td>3866.0</td>\n",
       "    </tr>\n",
       "    <tr>\n",
       "      <th>4</th>\n",
       "      <td>Electronics</td>\n",
       "      <td>iPhone Charger Cable,3Pack (MFi Certified) Dat...</td>\n",
       "      <td>19.77</td>\n",
       "      <td>4.7</td>\n",
       "      <td>139.0</td>\n",
       "    </tr>\n",
       "  </tbody>\n",
       "</table>\n",
       "</div>"
      ],
      "text/plain": [
       "      Category                                              Title   Price  \\\n",
       "0  Electronics                                       Apple AirTag    9.77   \n",
       "1  Electronics  USB C Charger iPhone Charger Fast Charging 3Pa...    9.99   \n",
       "2  Electronics  20W USB C Fast Charger Compatible with iPhone ...    7.99   \n",
       "3  Electronics  SAMSUNG Galaxy Tab A9+ Tablet 11” 64GB Android...  169.99   \n",
       "4  Electronics  iPhone Charger Cable,3Pack (MFi Certified) Dat...   19.77   \n",
       "\n",
       "   Rating  Review Count  \n",
       "0     4.6         384.0  \n",
       "1     4.7         218.0  \n",
       "2     4.4        1890.0  \n",
       "3     4.6        3866.0  \n",
       "4     4.7         139.0  "
      ]
     },
     "execution_count": 2,
     "metadata": {},
     "output_type": "execute_result"
    }
   ],
   "source": [
    "df=pd.read_csv('amazon_products_prices.csv')\n",
    "df.head()"
   ]
  },
  {
   "cell_type": "code",
   "execution_count": 4,
   "id": "01ce95ba-c43e-469e-8c89-b5a30f708f1f",
   "metadata": {},
   "outputs": [
    {
     "data": {
      "text/plain": [
       "Category          0\n",
       "Title             0\n",
       "Price            16\n",
       "Rating           12\n",
       "Review Count    199\n",
       "dtype: int64"
      ]
     },
     "execution_count": 4,
     "metadata": {},
     "output_type": "execute_result"
    }
   ],
   "source": [
    "df.isnull().sum()"
   ]
  },
  {
   "cell_type": "code",
   "execution_count": 5,
   "id": "c90a4c79-fd1c-4ac6-bef6-ecd1e1fd78dc",
   "metadata": {},
   "outputs": [
    {
     "data": {
      "text/plain": [
       "Category        0\n",
       "Title           0\n",
       "Price           0\n",
       "Rating          0\n",
       "Review Count    0\n",
       "dtype: int64"
      ]
     },
     "execution_count": 5,
     "metadata": {},
     "output_type": "execute_result"
    }
   ],
   "source": [
    "df = df.dropna()\n",
    "df.isnull().sum()"
   ]
  },
  {
   "cell_type": "code",
   "execution_count": 6,
   "id": "787febb5-5318-401c-b733-8526eeff821a",
   "metadata": {},
   "outputs": [
    {
     "data": {
      "text/plain": [
       "2"
      ]
     },
     "execution_count": 6,
     "metadata": {},
     "output_type": "execute_result"
    }
   ],
   "source": [
    "df.duplicated().sum()"
   ]
  },
  {
   "cell_type": "code",
   "execution_count": 7,
   "id": "6d37359e-3d23-40e9-afd0-7af7d2d598fe",
   "metadata": {},
   "outputs": [
    {
     "data": {
      "text/plain": [
       "0"
      ]
     },
     "execution_count": 7,
     "metadata": {},
     "output_type": "execute_result"
    }
   ],
   "source": [
    "df=df.drop_duplicates()\n",
    "df.duplicated().sum()"
   ]
  },
  {
   "cell_type": "code",
   "execution_count": 8,
   "id": "6d84cbfe-c113-42bc-b177-3ec35e5417ea",
   "metadata": {},
   "outputs": [
    {
     "data": {
      "text/plain": [
       "(528, 5)"
      ]
     },
     "execution_count": 8,
     "metadata": {},
     "output_type": "execute_result"
    }
   ],
   "source": [
    "df.shape"
   ]
  },
  {
   "cell_type": "code",
   "execution_count": 9,
   "id": "17065475-98cc-483c-9f4f-f1013a734f5c",
   "metadata": {},
   "outputs": [],
   "source": [
    "df.to_excel('amazon_sales_cleaned.xlsx',index=False)"
   ]
  },
  {
   "cell_type": "code",
   "execution_count": 10,
   "id": "741cddb9-741f-40a2-9511-ac6a5fed9854",
   "metadata": {},
   "outputs": [
    {
     "data": {
      "text/html": [
       "<div>\n",
       "<style scoped>\n",
       "    .dataframe tbody tr th:only-of-type {\n",
       "        vertical-align: middle;\n",
       "    }\n",
       "\n",
       "    .dataframe tbody tr th {\n",
       "        vertical-align: top;\n",
       "    }\n",
       "\n",
       "    .dataframe thead th {\n",
       "        text-align: right;\n",
       "    }\n",
       "</style>\n",
       "<table border=\"1\" class=\"dataframe\">\n",
       "  <thead>\n",
       "    <tr style=\"text-align: right;\">\n",
       "      <th></th>\n",
       "      <th>Category</th>\n",
       "      <th>Title</th>\n",
       "      <th>Price</th>\n",
       "      <th>Rating</th>\n",
       "      <th>Review Count</th>\n",
       "    </tr>\n",
       "  </thead>\n",
       "  <tbody>\n",
       "    <tr>\n",
       "      <th>0</th>\n",
       "      <td>Electronics</td>\n",
       "      <td>Apple AirTag</td>\n",
       "      <td>9.77</td>\n",
       "      <td>4.6</td>\n",
       "      <td>384.0</td>\n",
       "    </tr>\n",
       "    <tr>\n",
       "      <th>1</th>\n",
       "      <td>Electronics</td>\n",
       "      <td>USB C Charger iPhone Charger Fast Charging 3Pa...</td>\n",
       "      <td>9.99</td>\n",
       "      <td>4.7</td>\n",
       "      <td>218.0</td>\n",
       "    </tr>\n",
       "    <tr>\n",
       "      <th>2</th>\n",
       "      <td>Electronics</td>\n",
       "      <td>20W USB C Fast Charger Compatible with iPhone ...</td>\n",
       "      <td>7.99</td>\n",
       "      <td>4.4</td>\n",
       "      <td>1890.0</td>\n",
       "    </tr>\n",
       "    <tr>\n",
       "      <th>3</th>\n",
       "      <td>Electronics</td>\n",
       "      <td>SAMSUNG Galaxy Tab A9+ Tablet 11” 64GB Android...</td>\n",
       "      <td>169.99</td>\n",
       "      <td>4.6</td>\n",
       "      <td>3866.0</td>\n",
       "    </tr>\n",
       "    <tr>\n",
       "      <th>4</th>\n",
       "      <td>Electronics</td>\n",
       "      <td>iPhone Charger Cable,3Pack (MFi Certified) Dat...</td>\n",
       "      <td>19.77</td>\n",
       "      <td>4.7</td>\n",
       "      <td>139.0</td>\n",
       "    </tr>\n",
       "    <tr>\n",
       "      <th>...</th>\n",
       "      <td>...</td>\n",
       "      <td>...</td>\n",
       "      <td>...</td>\n",
       "      <td>...</td>\n",
       "      <td>...</td>\n",
       "    </tr>\n",
       "    <tr>\n",
       "      <th>732</th>\n",
       "      <td>Art</td>\n",
       "      <td>Prismacolor</td>\n",
       "      <td>53.39</td>\n",
       "      <td>4.6</td>\n",
       "      <td>517.0</td>\n",
       "    </tr>\n",
       "    <tr>\n",
       "      <th>733</th>\n",
       "      <td>Art</td>\n",
       "      <td>The Subtle Art of Not Giving a F*ck: A Counter...</td>\n",
       "      <td>0.00</td>\n",
       "      <td>4.5</td>\n",
       "      <td>146310.0</td>\n",
       "    </tr>\n",
       "    <tr>\n",
       "      <th>735</th>\n",
       "      <td>Art</td>\n",
       "      <td>Goodyking Paint Your Own Cat Lamp Kit, DIY Cat...</td>\n",
       "      <td>9.99</td>\n",
       "      <td>4.5</td>\n",
       "      <td>1105.0</td>\n",
       "    </tr>\n",
       "    <tr>\n",
       "      <th>738</th>\n",
       "      <td>Art</td>\n",
       "      <td>The Arts: A Visual Encyclopedia (DK Children's...</td>\n",
       "      <td>16.10</td>\n",
       "      <td>4.8</td>\n",
       "      <td>1400.0</td>\n",
       "    </tr>\n",
       "    <tr>\n",
       "      <th>739</th>\n",
       "      <td>Art</td>\n",
       "      <td>SCRIB3D</td>\n",
       "      <td>29.99</td>\n",
       "      <td>4.3</td>\n",
       "      <td>14637.0</td>\n",
       "    </tr>\n",
       "  </tbody>\n",
       "</table>\n",
       "<p>528 rows × 5 columns</p>\n",
       "</div>"
      ],
      "text/plain": [
       "        Category                                              Title   Price  \\\n",
       "0    Electronics                                       Apple AirTag    9.77   \n",
       "1    Electronics  USB C Charger iPhone Charger Fast Charging 3Pa...    9.99   \n",
       "2    Electronics  20W USB C Fast Charger Compatible with iPhone ...    7.99   \n",
       "3    Electronics  SAMSUNG Galaxy Tab A9+ Tablet 11” 64GB Android...  169.99   \n",
       "4    Electronics  iPhone Charger Cable,3Pack (MFi Certified) Dat...   19.77   \n",
       "..           ...                                                ...     ...   \n",
       "732          Art                                        Prismacolor   53.39   \n",
       "733          Art  The Subtle Art of Not Giving a F*ck: A Counter...    0.00   \n",
       "735          Art  Goodyking Paint Your Own Cat Lamp Kit, DIY Cat...    9.99   \n",
       "738          Art  The Arts: A Visual Encyclopedia (DK Children's...   16.10   \n",
       "739          Art                                            SCRIB3D   29.99   \n",
       "\n",
       "     Rating  Review Count  \n",
       "0       4.6         384.0  \n",
       "1       4.7         218.0  \n",
       "2       4.4        1890.0  \n",
       "3       4.6        3866.0  \n",
       "4       4.7         139.0  \n",
       "..      ...           ...  \n",
       "732     4.6         517.0  \n",
       "733     4.5      146310.0  \n",
       "735     4.5        1105.0  \n",
       "738     4.8        1400.0  \n",
       "739     4.3       14637.0  \n",
       "\n",
       "[528 rows x 5 columns]"
      ]
     },
     "execution_count": 10,
     "metadata": {},
     "output_type": "execute_result"
    }
   ],
   "source": [
    "df"
   ]
  },
  {
   "cell_type": "code",
   "execution_count": null,
   "id": "64c3649a-def1-4ea0-96b0-65a5704fe37b",
   "metadata": {},
   "outputs": [],
   "source": []
  }
 ],
 "metadata": {
  "kernelspec": {
   "display_name": "Python 3 (ipykernel)",
   "language": "python",
   "name": "python3"
  },
  "language_info": {
   "codemirror_mode": {
    "name": "ipython",
    "version": 3
   },
   "file_extension": ".py",
   "mimetype": "text/x-python",
   "name": "python",
   "nbconvert_exporter": "python",
   "pygments_lexer": "ipython3",
   "version": "3.12.2"
  }
 },
 "nbformat": 4,
 "nbformat_minor": 5
}
